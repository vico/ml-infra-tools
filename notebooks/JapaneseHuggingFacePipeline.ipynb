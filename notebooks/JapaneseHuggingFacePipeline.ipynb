{
 "cells": [
  {
   "cell_type": "code",
   "execution_count": 1,
   "id": "0460ed49-e72c-4d1a-bde0-bf2ae1e57025",
   "metadata": {},
   "outputs": [
    {
     "name": "stdout",
     "output_type": "stream",
     "text": [
      "fugashi                        1.1.0\n",
      "ipadic                         1.0.0\n",
      "tensorflow                     2.4.1\n",
      "tensorflow-data-validation     0.29.0\n",
      "tensorflow-estimator           2.4.0\n",
      "tensorflow-gpu                 2.4.1\n",
      "tensorflow-metadata            0.29.0\n",
      "tensorflow-serving-api         2.4.1\n",
      "transformers                   4.8.1\n"
     ]
    }
   ],
   "source": [
    "# !pip install transformers fugashi[unidic-lite] ipadic\n",
    "!pip list | grep 'transformers\\|fugashi\\|ipadic\\|tensorflow'"
   ]
  },
  {
   "cell_type": "code",
   "execution_count": 2,
   "id": "984a8b54-3eda-4b72-b926-baeb4613c931",
   "metadata": {},
   "outputs": [
    {
     "data": {
      "application/vnd.jupyter.widget-view+json": {
       "model_id": "0a484581543e4312ad22bd6ce1a0e62d",
       "version_major": 2,
       "version_minor": 0
      },
      "text/plain": [
       "HBox(children=(FloatProgress(value=0.0, description='Downloading', max=110.0, style=ProgressStyle(description_…"
      ]
     },
     "metadata": {},
     "output_type": "display_data"
    },
    {
     "name": "stdout",
     "output_type": "stream",
     "text": [
      "\n"
     ]
    },
    {
     "data": {
      "application/vnd.jupyter.widget-view+json": {
       "model_id": "0c5f82f5af72491aae66e5c44ec505a6",
       "version_major": 2,
       "version_minor": 0
      },
      "text/plain": [
       "HBox(children=(FloatProgress(value=0.0, description='Downloading', max=479.0, style=ProgressStyle(description_…"
      ]
     },
     "metadata": {},
     "output_type": "display_data"
    },
    {
     "name": "stdout",
     "output_type": "stream",
     "text": [
      "\n"
     ]
    },
    {
     "data": {
      "application/vnd.jupyter.widget-view+json": {
       "model_id": "6ed8c42760994b6abac372745ff1ea5c",
       "version_major": 2,
       "version_minor": 0
      },
      "text/plain": [
       "HBox(children=(FloatProgress(value=0.0, description='Downloading', max=257706.0, style=ProgressStyle(descripti…"
      ]
     },
     "metadata": {},
     "output_type": "display_data"
    },
    {
     "name": "stdout",
     "output_type": "stream",
     "text": [
      "\n"
     ]
    }
   ],
   "source": [
    "from transformers import AutoTokenizer\n",
    "\n",
    "checkpoint = \"cl-tohoku/bert-base-japanese-whole-word-masking\"\n",
    "tokenizer = AutoTokenizer.from_pretrained(checkpoint)"
   ]
  },
  {
   "cell_type": "code",
   "execution_count": 3,
   "id": "9b8dc7da-d377-45d7-b7a9-b88285e42370",
   "metadata": {},
   "outputs": [
    {
     "name": "stdout",
     "output_type": "stream",
     "text": [
      "{'input_ids': <tf.Tensor: shape=(1, 10), dtype=int32, numpy=\n",
      "array([[   2,  571,   12,    4,    5,  608,   11, 2867,    8,    3]],\n",
      "      dtype=int32)>, 'token_type_ids': <tf.Tensor: shape=(1, 10), dtype=int32, numpy=array([[0, 0, 0, 0, 0, 0, 0, 0, 0, 0]], dtype=int32)>, 'attention_mask': <tf.Tensor: shape=(1, 10), dtype=int32, numpy=array([[1, 1, 1, 1, 1, 1, 1, 1, 1, 1]], dtype=int32)>}\n"
     ]
    }
   ],
   "source": [
    "raw_inputs = [\n",
    "    #'テレビでサッカーの試合を見る。', \n",
    "    'テレビで' + tokenizer.mask_token + 'の試合を見る。', \n",
    "]\n",
    "inputs = tokenizer(raw_inputs, padding=True, truncation=True, return_tensors=\"tf\")\n",
    "print(inputs)"
   ]
  },
  {
   "cell_type": "code",
   "execution_count": 4,
   "id": "21c76bca-a16b-48c1-8a62-5f7b1d502ff2",
   "metadata": {},
   "outputs": [
    {
     "data": {
      "application/vnd.jupyter.widget-view+json": {
       "model_id": "c8abadb5d3524dcba3e086d7fa856922",
       "version_major": 2,
       "version_minor": 0
      },
      "text/plain": [
       "HBox(children=(FloatProgress(value=0.0, description='Downloading', max=545149952.0, style=ProgressStyle(descri…"
      ]
     },
     "metadata": {},
     "output_type": "display_data"
    },
    {
     "name": "stdout",
     "output_type": "stream",
     "text": [
      "\n"
     ]
    },
    {
     "name": "stderr",
     "output_type": "stream",
     "text": [
      "All model checkpoint layers were used when initializing TFBertForMaskedLM.\n",
      "\n",
      "All the layers of TFBertForMaskedLM were initialized from the model checkpoint at cl-tohoku/bert-base-japanese-whole-word-masking.\n",
      "If your task is similar to the task the model of the checkpoint was trained on, you can already use TFBertForMaskedLM for predictions without further training.\n"
     ]
    },
    {
     "name": "stdout",
     "output_type": "stream",
     "text": [
      "(1, 10, 32000)\n"
     ]
    }
   ],
   "source": [
    "from transformers import TFAutoModelForMaskedLM\n",
    "\n",
    "model = TFAutoModelForMaskedLM.from_pretrained(checkpoint)\n",
    "outputs = model(inputs)\n",
    "print(outputs.logits.shape)"
   ]
  },
  {
   "cell_type": "code",
   "execution_count": 5,
   "id": "ad66417c-f37d-4771-bef5-38311dbcc600",
   "metadata": {},
   "outputs": [
    {
     "name": "stdout",
     "output_type": "stream",
     "text": [
      "tf.Tensor(\n",
      "[[[3.7459305e-08 1.0108354e-03 3.0044521e-07 ... 9.5772705e-08\n",
      "   1.4990446e-08 1.3698190e-07]\n",
      "  [2.2006600e-13 5.4908986e-07 3.1778032e-11 ... 6.3342663e-13\n",
      "   2.9647142e-13 1.1226209e-12]\n",
      "  [1.6911761e-15 4.8180787e-08 1.7189679e-12 ... 1.9864927e-14\n",
      "   4.0749305e-14 4.7688399e-14]\n",
      "  ...\n",
      "  [3.1071811e-13 1.9899795e-07 2.3371231e-12 ... 3.6241833e-14\n",
      "   6.2069416e-12 2.8103923e-14]\n",
      "  [1.0250574e-12 2.7231323e-07 6.7588213e-10 ... 3.3563010e-11\n",
      "   5.8855171e-11 1.3667138e-12]\n",
      "  [3.8539120e-12 5.3201114e-07 7.5232398e-10 ... 1.7161642e-10\n",
      "   6.5043609e-12 1.3238502e-12]]], shape=(1, 10, 32000), dtype=float32)\n"
     ]
    }
   ],
   "source": [
    "import tensorflow as tf\n",
    "\n",
    "predictions = tf.math.softmax(outputs.logits, axis=-1)\n",
    "print(predictions)"
   ]
  },
  {
   "cell_type": "code",
   "execution_count": 6,
   "id": "2049da85-baaa-4298-8326-7fd4b506d393",
   "metadata": {},
   "outputs": [
    {
     "data": {
      "text/plain": [
       "array([ 1301,  5653, 15235], dtype=int32)"
      ]
     },
     "execution_count": 6,
     "metadata": {},
     "output_type": "execute_result"
    }
   ],
   "source": [
    "results = tf.math.top_k(tf.math.softmax(outputs.logits[0, 3, :], axis=-1), k=3)  # get top 3 candidates\n",
    "results.indices.numpy()"
   ]
  },
  {
   "cell_type": "code",
   "execution_count": 7,
   "id": "e704cd54-1d6b-4f28-89af-af858e49eb41",
   "metadata": {},
   "outputs": [
    {
     "name": "stdout",
     "output_type": "stream",
     "text": [
      "0 サッカー\n",
      "1 バスケットボール\n",
      "2 阪神タイガース\n"
     ]
    }
   ],
   "source": [
    "# Show results\n",
    "for i, index in enumerate(results.indices):\n",
    "    token = tokenizer.convert_ids_to_tokens([index])[0]\n",
    "    print(i, token)"
   ]
  },
  {
   "cell_type": "code",
   "execution_count": 9,
   "id": "1e682fa7-7d59-48ec-8a8b-110ec83359e0",
   "metadata": {},
   "outputs": [
    {
     "name": "stderr",
     "output_type": "stream",
     "text": [
      "All model checkpoint layers were used when initializing TFBertForMaskedLM.\n",
      "\n",
      "All the layers of TFBertForMaskedLM were initialized from the model checkpoint at cl-tohoku/bert-base-japanese-whole-word-masking.\n",
      "If your task is similar to the task the model of the checkpoint was trained on, you can already use TFBertForMaskedLM for predictions without further training.\n"
     ]
    }
   ],
   "source": [
    "from transformers import pipeline\n",
    "unmasker = pipeline(\"fill-mask\", model=\"cl-tohoku/bert-base-japanese-whole-word-masking\", tokenizer='cl-tohoku/bert-base-japanese-whole-word-masking')"
   ]
  },
  {
   "cell_type": "code",
   "execution_count": 10,
   "id": "0191acf7-44cc-4f53-89f1-1f18cb800836",
   "metadata": {},
   "outputs": [
    {
     "data": {
      "text/plain": [
       "[{'sequence': 'テレビ で サッカー の 試合 を 見る 。',\n",
       "  'score': 0.08827631920576096,\n",
       "  'token': 1301,\n",
       "  'token_str': 'サ ッ カ ー'},\n",
       " {'sequence': 'テレビ で バスケットボール の 試合 を 見る 。',\n",
       "  'score': 0.057113878428936005,\n",
       "  'token': 5653,\n",
       "  'token_str': 'バ ス ケ ッ ト ボ ー ル'},\n",
       " {'sequence': 'テレビ で 阪神タイガース の 試合 を 見る 。',\n",
       "  'score': 0.04361201822757721,\n",
       "  'token': 15235,\n",
       "  'token_str': '阪 神 タ イ ガ ー ス'}]"
      ]
     },
     "execution_count": 10,
     "metadata": {},
     "output_type": "execute_result"
    }
   ],
   "source": [
    "unmasker(\"テレビで\" + unmasker.tokenizer.mask_token + \"の試合を見る。\", top_k=3)"
   ]
  },
  {
   "cell_type": "code",
   "execution_count": null,
   "id": "e89251dc-7651-4aaf-8111-22f715c4e112",
   "metadata": {},
   "outputs": [
    {
     "data": {
      "application/vnd.jupyter.widget-view+json": {
       "model_id": "75c150ac375e4cbbb09a4143ed0e30b3",
       "version_major": 2,
       "version_minor": 0
      },
      "text/plain": [
       "HBox(children=(FloatProgress(value=0.0, description='Downloading', max=629.0, style=ProgressStyle(description_…"
      ]
     },
     "metadata": {},
     "output_type": "display_data"
    },
    {
     "name": "stdout",
     "output_type": "stream",
     "text": [
      "\n"
     ]
    },
    {
     "data": {
      "application/vnd.jupyter.widget-view+json": {
       "model_id": "af532bdc040542a395a3aaff926e4728",
       "version_major": 2,
       "version_minor": 0
      },
      "text/plain": [
       "HBox(children=(FloatProgress(value=0.0, description='Downloading', max=267949840.0, style=ProgressStyle(descri…"
      ]
     },
     "metadata": {},
     "output_type": "display_data"
    }
   ],
   "source": [
    "\n",
    "classifier = pipeline(\"sentiment-analysis\")\n",
    "classifier(\"I've been waiting for a HuggingFace course my whole life.\")"
   ]
  },
  {
   "cell_type": "code",
   "execution_count": null,
   "id": "bb35ccae-252c-481e-a40c-649a29eb76bf",
   "metadata": {},
   "outputs": [],
   "source": [
    "classifier([\n",
    "    \"I've been waiting for a HuggingFace course my whole life.\", \n",
    "    \"I hate this so much!\"\n",
    "])"
   ]
  },
  {
   "cell_type": "code",
   "execution_count": null,
   "id": "0dba66ce-a5f2-43d7-a3fb-d1f349009bfe",
   "metadata": {},
   "outputs": [],
   "source": []
  }
 ],
 "metadata": {
  "kernelspec": {
   "display_name": "Python 3",
   "language": "python",
   "name": "python3"
  },
  "language_info": {
   "codemirror_mode": {
    "name": "ipython",
    "version": 3
   },
   "file_extension": ".py",
   "mimetype": "text/x-python",
   "name": "python",
   "nbconvert_exporter": "python",
   "pygments_lexer": "ipython3",
   "version": "3.8.5"
  },
  "widgets": {
   "application/vnd.jupyter.widget-state+json": {
    "state": {
     "02d63c7775a04ca89e2385a4b04a14d8": {
      "model_module": "@jupyter-widgets/controls",
      "model_module_version": "1.5.0",
      "model_name": "DescriptionStyleModel",
      "state": {
       "description_width": ""
      }
     },
     "09211fd07db743a7a84da60aa89b87a1": {
      "model_module": "@jupyter-widgets/controls",
      "model_module_version": "1.5.0",
      "model_name": "FloatProgressModel",
      "state": {
       "bar_style": "success",
       "description": "Downloading: 100%",
       "layout": "IPY_MODEL_49341d3254bc4f5bb323ad97f97de3e8",
       "max": 545149952,
       "style": "IPY_MODEL_d3d22640a81942ba9607d0aef3074a54",
       "value": 545149952
      }
     },
     "0a484581543e4312ad22bd6ce1a0e62d": {
      "model_module": "@jupyter-widgets/controls",
      "model_module_version": "1.5.0",
      "model_name": "HBoxModel",
      "state": {
       "children": [
        "IPY_MODEL_98b86bc3d3b34fdab92ee5b315005ade",
        "IPY_MODEL_4b2e9a6a51da4195a345b75168c6accc"
       ],
       "layout": "IPY_MODEL_70bf2bfa168d4c2fa58e3377bdf71123"
      }
     },
     "0c5f82f5af72491aae66e5c44ec505a6": {
      "model_module": "@jupyter-widgets/controls",
      "model_module_version": "1.5.0",
      "model_name": "HBoxModel",
      "state": {
       "children": [
        "IPY_MODEL_8e183532911d43a5aee9d9ddec10b4ab",
        "IPY_MODEL_76ea8889d8f54d4f84a01584b6fb058a"
       ],
       "layout": "IPY_MODEL_e70249d3b88a497fae26fcf0e136a4ef"
      }
     },
     "0cfead08ec404eeab76e4f5038ff3c52": {
      "model_module": "@jupyter-widgets/base",
      "model_module_version": "1.2.0",
      "model_name": "LayoutModel",
      "state": {}
     },
     "1351e2f52b9146d1a5f32d82a3f1bd43": {
      "model_module": "@jupyter-widgets/controls",
      "model_module_version": "1.5.0",
      "model_name": "HTMLModel",
      "state": {
       "layout": "IPY_MODEL_dc032ae76bc74969894238870daeecc4",
       "style": "IPY_MODEL_d1e036ff14004aeba78429e2b6fd4ba8",
       "value": " 258k/258k [00:02&lt;00:00, 89.6kB/s]"
      }
     },
     "1823936478714011925a98e799f1a1be": {
      "model_module": "@jupyter-widgets/base",
      "model_module_version": "1.2.0",
      "model_name": "LayoutModel",
      "state": {}
     },
     "363c6d8f87654b4fa087cde02c1347da": {
      "model_module": "@jupyter-widgets/controls",
      "model_module_version": "1.5.0",
      "model_name": "ProgressStyleModel",
      "state": {
       "description_width": "initial"
      }
     },
     "49341d3254bc4f5bb323ad97f97de3e8": {
      "model_module": "@jupyter-widgets/base",
      "model_module_version": "1.2.0",
      "model_name": "LayoutModel",
      "state": {}
     },
     "4b2e9a6a51da4195a345b75168c6accc": {
      "model_module": "@jupyter-widgets/controls",
      "model_module_version": "1.5.0",
      "model_name": "HTMLModel",
      "state": {
       "layout": "IPY_MODEL_8f3b43a582f14411b885d7211118d187",
       "style": "IPY_MODEL_d53cf9beb5874c39bf380276fef08657",
       "value": " 110/110 [00:05&lt;00:00, 19.1B/s]"
      }
     },
     "53eb36e00ef647e5a8a8cf9fb7277478": {
      "model_module": "@jupyter-widgets/base",
      "model_module_version": "1.2.0",
      "model_name": "LayoutModel",
      "state": {}
     },
     "6266ba14169e4464a6275b8347d60a1a": {
      "model_module": "@jupyter-widgets/base",
      "model_module_version": "1.2.0",
      "model_name": "LayoutModel",
      "state": {}
     },
     "68a227706b9d4ecbb9606be6a758cf23": {
      "model_module": "@jupyter-widgets/controls",
      "model_module_version": "1.5.0",
      "model_name": "ProgressStyleModel",
      "state": {
       "description_width": "initial"
      }
     },
     "6ed8c42760994b6abac372745ff1ea5c": {
      "model_module": "@jupyter-widgets/controls",
      "model_module_version": "1.5.0",
      "model_name": "HBoxModel",
      "state": {
       "children": [
        "IPY_MODEL_b394704c751946418a169cef1575e9f0",
        "IPY_MODEL_1351e2f52b9146d1a5f32d82a3f1bd43"
       ],
       "layout": "IPY_MODEL_b6800fc676d5448c8b212b1d1e211f59"
      }
     },
     "70bf2bfa168d4c2fa58e3377bdf71123": {
      "model_module": "@jupyter-widgets/base",
      "model_module_version": "1.2.0",
      "model_name": "LayoutModel",
      "state": {}
     },
     "75c150ac375e4cbbb09a4143ed0e30b3": {
      "model_module": "@jupyter-widgets/controls",
      "model_module_version": "1.5.0",
      "model_name": "HBoxModel",
      "state": {
       "children": [
        "IPY_MODEL_dac14938cbbc4d25bde9f832032e262f",
        "IPY_MODEL_e3f1cee2f91543319c274ffd0c07e1db"
       ],
       "layout": "IPY_MODEL_e679e95a09a94867b94b589f3676e318"
      }
     },
     "76ea8889d8f54d4f84a01584b6fb058a": {
      "model_module": "@jupyter-widgets/controls",
      "model_module_version": "1.5.0",
      "model_name": "HTMLModel",
      "state": {
       "layout": "IPY_MODEL_bd774808f9f64666942e1d22505603a3",
       "style": "IPY_MODEL_cc0b6224cf2a4fd0a883ee7b0caa6acd",
       "value": " 479/479 [00:01&lt;00:00, 350B/s]"
      }
     },
     "8e183532911d43a5aee9d9ddec10b4ab": {
      "model_module": "@jupyter-widgets/controls",
      "model_module_version": "1.5.0",
      "model_name": "FloatProgressModel",
      "state": {
       "bar_style": "success",
       "description": "Downloading: 100%",
       "layout": "IPY_MODEL_dde5c5b4d42e4417a59bcbae4cbfb556",
       "max": 479,
       "style": "IPY_MODEL_be095b87345344d8bb3158b306d61f87",
       "value": 479
      }
     },
     "8f3b43a582f14411b885d7211118d187": {
      "model_module": "@jupyter-widgets/base",
      "model_module_version": "1.2.0",
      "model_name": "LayoutModel",
      "state": {}
     },
     "90342b297d0449549a6e295da081c0c6": {
      "model_module": "@jupyter-widgets/controls",
      "model_module_version": "1.5.0",
      "model_name": "DescriptionStyleModel",
      "state": {
       "description_width": ""
      }
     },
     "98b86bc3d3b34fdab92ee5b315005ade": {
      "model_module": "@jupyter-widgets/controls",
      "model_module_version": "1.5.0",
      "model_name": "FloatProgressModel",
      "state": {
       "bar_style": "success",
       "description": "Downloading: 100%",
       "layout": "IPY_MODEL_1823936478714011925a98e799f1a1be",
       "max": 110,
       "style": "IPY_MODEL_363c6d8f87654b4fa087cde02c1347da",
       "value": 110
      }
     },
     "a048429ec046487fa11e94681b002dff": {
      "model_module": "@jupyter-widgets/base",
      "model_module_version": "1.2.0",
      "model_name": "LayoutModel",
      "state": {}
     },
     "af532bdc040542a395a3aaff926e4728": {
      "model_module": "@jupyter-widgets/controls",
      "model_module_version": "1.5.0",
      "model_name": "HBoxModel",
      "state": {
       "children": [
        "IPY_MODEL_d43c59ce1fad45aeb75b4adb5ae544e7",
        "IPY_MODEL_e18952cd074644d8a23fdd69c3cb7d0e"
       ],
       "layout": "IPY_MODEL_d8ff611183eb40189497a6e2e1c1bada"
      }
     },
     "b394704c751946418a169cef1575e9f0": {
      "model_module": "@jupyter-widgets/controls",
      "model_module_version": "1.5.0",
      "model_name": "FloatProgressModel",
      "state": {
       "bar_style": "success",
       "description": "Downloading: 100%",
       "layout": "IPY_MODEL_a048429ec046487fa11e94681b002dff",
       "max": 257706,
       "style": "IPY_MODEL_68a227706b9d4ecbb9606be6a758cf23",
       "value": 257706
      }
     },
     "b6800fc676d5448c8b212b1d1e211f59": {
      "model_module": "@jupyter-widgets/base",
      "model_module_version": "1.2.0",
      "model_name": "LayoutModel",
      "state": {}
     },
     "bd774808f9f64666942e1d22505603a3": {
      "model_module": "@jupyter-widgets/base",
      "model_module_version": "1.2.0",
      "model_name": "LayoutModel",
      "state": {}
     },
     "be095b87345344d8bb3158b306d61f87": {
      "model_module": "@jupyter-widgets/controls",
      "model_module_version": "1.5.0",
      "model_name": "ProgressStyleModel",
      "state": {
       "description_width": "initial"
      }
     },
     "bf8035d8a36849d89be877ef4e10fc3b": {
      "model_module": "@jupyter-widgets/base",
      "model_module_version": "1.2.0",
      "model_name": "LayoutModel",
      "state": {}
     },
     "c4274ea7143041db94fe6a65732f6e8c": {
      "model_module": "@jupyter-widgets/controls",
      "model_module_version": "1.5.0",
      "model_name": "ProgressStyleModel",
      "state": {
       "description_width": "initial"
      }
     },
     "c63837f09ef640c7b81fb80e67379370": {
      "model_module": "@jupyter-widgets/controls",
      "model_module_version": "1.5.0",
      "model_name": "HTMLModel",
      "state": {
       "layout": "IPY_MODEL_0cfead08ec404eeab76e4f5038ff3c52",
       "style": "IPY_MODEL_90342b297d0449549a6e295da081c0c6",
       "value": " 545M/545M [06:20&lt;00:00, 1.43MB/s]"
      }
     },
     "c8abadb5d3524dcba3e086d7fa856922": {
      "model_module": "@jupyter-widgets/controls",
      "model_module_version": "1.5.0",
      "model_name": "HBoxModel",
      "state": {
       "children": [
        "IPY_MODEL_09211fd07db743a7a84da60aa89b87a1",
        "IPY_MODEL_c63837f09ef640c7b81fb80e67379370"
       ],
       "layout": "IPY_MODEL_bf8035d8a36849d89be877ef4e10fc3b"
      }
     },
     "cc0b6224cf2a4fd0a883ee7b0caa6acd": {
      "model_module": "@jupyter-widgets/controls",
      "model_module_version": "1.5.0",
      "model_name": "DescriptionStyleModel",
      "state": {
       "description_width": ""
      }
     },
     "d1e036ff14004aeba78429e2b6fd4ba8": {
      "model_module": "@jupyter-widgets/controls",
      "model_module_version": "1.5.0",
      "model_name": "DescriptionStyleModel",
      "state": {
       "description_width": ""
      }
     },
     "d360b9599e2b4da4907f38e44f649d45": {
      "model_module": "@jupyter-widgets/base",
      "model_module_version": "1.2.0",
      "model_name": "LayoutModel",
      "state": {}
     },
     "d3d22640a81942ba9607d0aef3074a54": {
      "model_module": "@jupyter-widgets/controls",
      "model_module_version": "1.5.0",
      "model_name": "ProgressStyleModel",
      "state": {
       "description_width": "initial"
      }
     },
     "d43c59ce1fad45aeb75b4adb5ae544e7": {
      "model_module": "@jupyter-widgets/controls",
      "model_module_version": "1.5.0",
      "model_name": "FloatProgressModel",
      "state": {
       "description": "Downloading:   0%",
       "layout": "IPY_MODEL_53eb36e00ef647e5a8a8cf9fb7277478",
       "max": 267949840,
       "style": "IPY_MODEL_c4274ea7143041db94fe6a65732f6e8c",
       "value": 89088
      }
     },
     "d53cf9beb5874c39bf380276fef08657": {
      "model_module": "@jupyter-widgets/controls",
      "model_module_version": "1.5.0",
      "model_name": "DescriptionStyleModel",
      "state": {
       "description_width": ""
      }
     },
     "d8ff611183eb40189497a6e2e1c1bada": {
      "model_module": "@jupyter-widgets/base",
      "model_module_version": "1.2.0",
      "model_name": "LayoutModel",
      "state": {}
     },
     "dac14938cbbc4d25bde9f832032e262f": {
      "model_module": "@jupyter-widgets/controls",
      "model_module_version": "1.5.0",
      "model_name": "FloatProgressModel",
      "state": {
       "bar_style": "success",
       "description": "Downloading: 100%",
       "layout": "IPY_MODEL_d360b9599e2b4da4907f38e44f649d45",
       "max": 629,
       "style": "IPY_MODEL_fe890cc216744b8396abd9cfc51b41eb",
       "value": 629
      }
     },
     "dc032ae76bc74969894238870daeecc4": {
      "model_module": "@jupyter-widgets/base",
      "model_module_version": "1.2.0",
      "model_name": "LayoutModel",
      "state": {}
     },
     "dde5c5b4d42e4417a59bcbae4cbfb556": {
      "model_module": "@jupyter-widgets/base",
      "model_module_version": "1.2.0",
      "model_name": "LayoutModel",
      "state": {}
     },
     "e18952cd074644d8a23fdd69c3cb7d0e": {
      "model_module": "@jupyter-widgets/controls",
      "model_module_version": "1.5.0",
      "model_name": "HTMLModel",
      "state": {
       "layout": "IPY_MODEL_e26f23624fa74b7bb7fa33002bc4e76f",
       "style": "IPY_MODEL_e706becfe3994e9983b4d87af3a83edf",
       "value": " 89.1k/268M [00:00&lt;2:55:04, 25.5kB/s]"
      }
     },
     "e26f23624fa74b7bb7fa33002bc4e76f": {
      "model_module": "@jupyter-widgets/base",
      "model_module_version": "1.2.0",
      "model_name": "LayoutModel",
      "state": {}
     },
     "e3f1cee2f91543319c274ffd0c07e1db": {
      "model_module": "@jupyter-widgets/controls",
      "model_module_version": "1.5.0",
      "model_name": "HTMLModel",
      "state": {
       "layout": "IPY_MODEL_6266ba14169e4464a6275b8347d60a1a",
       "style": "IPY_MODEL_02d63c7775a04ca89e2385a4b04a14d8",
       "value": " 629/629 [00:02&lt;00:00, 263B/s]"
      }
     },
     "e679e95a09a94867b94b589f3676e318": {
      "model_module": "@jupyter-widgets/base",
      "model_module_version": "1.2.0",
      "model_name": "LayoutModel",
      "state": {}
     },
     "e70249d3b88a497fae26fcf0e136a4ef": {
      "model_module": "@jupyter-widgets/base",
      "model_module_version": "1.2.0",
      "model_name": "LayoutModel",
      "state": {}
     },
     "e706becfe3994e9983b4d87af3a83edf": {
      "model_module": "@jupyter-widgets/controls",
      "model_module_version": "1.5.0",
      "model_name": "DescriptionStyleModel",
      "state": {
       "description_width": ""
      }
     },
     "fe890cc216744b8396abd9cfc51b41eb": {
      "model_module": "@jupyter-widgets/controls",
      "model_module_version": "1.5.0",
      "model_name": "ProgressStyleModel",
      "state": {
       "description_width": "initial"
      }
     }
    },
    "version_major": 2,
    "version_minor": 0
   }
  }
 },
 "nbformat": 4,
 "nbformat_minor": 5
}
